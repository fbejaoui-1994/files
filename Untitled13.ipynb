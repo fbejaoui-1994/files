{
  "nbformat": 4,
  "nbformat_minor": 0,
  "metadata": {
    "colab": {
      "provenance": []
    },
    "kernelspec": {
      "name": "python3",
      "display_name": "Python 3"
    },
    "language_info": {
      "name": "python"
    }
  },
  "cells": [
    {
      "cell_type": "code",
      "execution_count": 9,
      "metadata": {
        "colab": {
          "base_uri": "https://localhost:8080/"
        },
        "id": "WjyumQIk-57i",
        "outputId": "f1e3eddf-d042-472d-8699-370601df8252"
      },
      "outputs": [
        {
          "output_type": "stream",
          "name": "stdout",
          "text": [
            "1. Add two numbers\n",
            "2. Multiply two numbers\n",
            "3. Exit\n",
            "Enter your choice (1/2/3):8\n",
            "Invalid choice\n",
            "1. Add two numbers\n",
            "2. Multiply two numbers\n",
            "3. Exit\n",
            "Enter your choice (1/2/3):6\n",
            "Invalid choice\n",
            "1. Add two numbers\n",
            "2. Multiply two numbers\n",
            "3. Exit\n",
            "Enter your choice (1/2/3):2\n",
            "Enter first number:5\n",
            "Enter second number:5\n",
            "The product is: 25.0\n",
            "1. Add two numbers\n",
            "2. Multiply two numbers\n",
            "3. Exit\n",
            "Enter your choice (1/2/3):3\n",
            "Exiting the program.\n"
          ]
        }
      ],
      "source": [
        "def greet_user():\n",
        "  print(\"HELLO! WELCOME TO OUR PROGRAM\")\n",
        "def add_numbers(a,b):\n",
        "  sum=a+b\n",
        "  return sum\n",
        "def multiply_numbers(x,y):\n",
        "  product=x*y\n",
        "  return product\n",
        "def display_menu():\n",
        "  print(\"1. Add two numbers\")\n",
        "  print(\"2. Multiply two numbers\")\n",
        "  print(\"3. Exit\")\n",
        "def main():\n",
        "  while True:\n",
        "    display_menu()\n",
        "    choice=input(\"Enter your choice (1/2/3):\")\n",
        "    if choice=='1' :\n",
        "      a=float(input(\"Enter first number:\"))\n",
        "      b=float(input(\"Enter second number:\"))\n",
        "      total=add_numbers(a,b)\n",
        "      print(\"The sum is:\",total)\n",
        "    elif choice=='2':\n",
        "      x=float(input(\"Enter first number:\"))\n",
        "      y=float(input(\"Enter second number:\"))\n",
        "      result=multiply_numbers(x,y)\n",
        "      print(\"The product is:\",result)\n",
        "    elif choice=='3':\n",
        "      print(\"Exiting the program.\")\n",
        "      break\n",
        "    else:\n",
        "      print(\"Invalid choice\")\n",
        "main()\n",
        "\n",
        "\n",
        "\n",
        "\n",
        "\n"
      ]
    },
    {
      "cell_type": "code",
      "source": [],
      "metadata": {
        "id": "7gkBtGdCXEiR"
      },
      "execution_count": null,
      "outputs": []
    }
  ]
}